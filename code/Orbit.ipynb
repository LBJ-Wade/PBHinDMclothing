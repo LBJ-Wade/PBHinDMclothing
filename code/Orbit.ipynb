{
 "cells": [
  {
   "cell_type": "code",
   "execution_count": 51,
   "metadata": {
    "collapsed": true
   },
   "outputs": [],
   "source": [
    "%matplotlib inline\n",
    "\n",
    "from __future__ import division\n",
    "\n",
    "import numpy as np\n",
    "import matplotlib.pyplot as pl\n",
    "from scipy.integrate import odeint\n",
    "from scipy.special import erf"
   ]
  },
  {
   "cell_type": "markdown",
   "metadata": {},
   "source": [
    "Let's use a planar coordinate system (everything has z = 0), so we just have two coordinates (x,y). If we have a position array x, then let's say that x[0] = x, x[1] = y."
   ]
  },
  {
   "cell_type": "markdown",
   "metadata": {},
   "source": [
    "### Some constants\n",
    "\n",
    "We're operating in units of (parsecs), (solar masses) and (km/s).\n",
    "Time is in units of parsec/(km/s) = 3.086e13 s = 0.978 Myr."
   ]
  },
  {
   "cell_type": "code",
   "execution_count": 52,
   "metadata": {
    "collapsed": true
   },
   "outputs": [],
   "source": [
    "G_N = 4.302e-3 #(pc/solar mass) (km/s)^2\n",
    "M_PBH = 30.0\n",
    "r_tr = 0.0063*(M_PBH**(1.0/3.0))\n",
    "\n",
    "A = 3*M_PBH/(8*np.pi*r_tr**3)\n",
    "T = 0.978 #Myr"
   ]
  },
  {
   "cell_type": "markdown",
   "metadata": {},
   "source": [
    "### Some random functions"
   ]
  },
  {
   "cell_type": "markdown",
   "metadata": {},
   "source": [
    "Mass enclosed in the halo at a given distance:"
   ]
  },
  {
   "cell_type": "code",
   "execution_count": 53,
   "metadata": {
    "collapsed": true
   },
   "outputs": [],
   "source": [
    "#Mass of PBH + DM within a radius r\n",
    "def Menc(r):\n",
    "    if (r > r_tr):\n",
    "        return 2.0*M_PBH\n",
    "    else:\n",
    "        return M_PBH*(1+(r/r_tr)**(3/2))"
   ]
  },
  {
   "cell_type": "code",
   "execution_count": 54,
   "metadata": {
    "collapsed": true
   },
   "outputs": [],
   "source": [
    "def density(r):\n",
    "    if (r > r_tr):\n",
    "        return 0\n",
    "    else:\n",
    "        return A*(r/r_tr)**(-3.0/2.0)"
   ]
  },
  {
   "cell_type": "markdown",
   "metadata": {},
   "source": [
    "Gravitational force"
   ]
  },
  {
   "cell_type": "code",
   "execution_count": 55,
   "metadata": {
    "collapsed": true
   },
   "outputs": [],
   "source": [
    "def F_grav(x,v):\n",
    "    r = np.sqrt(x[0]**2 + x[1]**2)\n",
    "    return -x*G_N*Menc(r)*M_PBH/r**3"
   ]
  },
  {
   "cell_type": "markdown",
   "metadata": {},
   "source": [
    "Dynamical friction force:"
   ]
  },
  {
   "cell_type": "code",
   "execution_count": 56,
   "metadata": {
    "collapsed": true
   },
   "outputs": [],
   "source": [
    "#Correction due to the speed distribution of DM in the halo\n",
    "#Assume for now some kind of Maxwell-Boltzmann distribution\n",
    "def dist_corr(r, v_abs):\n",
    "    disp = np.sqrt(2*G_N*Menc(r)/r) #Within some factor\n",
    "    X = v_abs/np.sqrt(2)\n",
    "    return erf(X) - (2*X/np.sqrt(np.pi))*np.exp(-X**2)"
   ]
  },
  {
   "cell_type": "code",
   "execution_count": 57,
   "metadata": {
    "collapsed": true
   },
   "outputs": [],
   "source": [
    "#See, for example, https://arxiv.org/pdf/1604.02034.pdf\n",
    "#For now, take the coulomb logarithm to be equal to 1 (we can discuss, see also 1009.2445)\n",
    "\n",
    "def F_dyn(x,v):\n",
    "    r = np.sqrt(x[0]**2 + x[1]**2)\n",
    "    v_abs = np.sqrt(v[0]**2 + v[1]**2)\n",
    "    norm = 4*np.pi*(M_PBH**2)*(G_N**2)   #Extra factor of M_PBH appears here because this is the force\n",
    "    return -norm*v*density(r)*dist_corr(r, v_abs)/v_abs**3\n",
    "\n",
    "#This should come out with the correct units (M_solar (km/s)/T)"
   ]
  },
  {
   "cell_type": "markdown",
   "metadata": {},
   "source": [
    "### Set up the system and solve the ODE:"
   ]
  },
  {
   "cell_type": "code",
   "execution_count": 58,
   "metadata": {},
   "outputs": [],
   "source": [
    "#Specify the eccentricity and semi-major axis\n",
    "e = 0.999\n",
    "a = 2*r_tr\n",
    "\n",
    "#Try e = 0.0 and you get a nice circle, try e = 0.5 and you get a nice ellipse\n",
    "\n",
    "#Calculate the period\n",
    "P = 2*np.pi*np.sqrt(a**3/(2*M_PBH*G_N))\n",
    "\n",
    "#Initial x , y\n",
    "r0 = (1+e)*a\n",
    "x_init = [0, r0]\n",
    "\n",
    "#Initial v_x, v_y (let's pick some random values for now, rather than setting up things correctly)\n",
    "v_apo = np.sqrt(2*M_PBH*G_N*(2.0/r0 - 1.0/a))\n",
    "v_init = [v_apo, 0]\n",
    "\n",
    "#Try this one to get a nice eccentric orbit (which doesn't pass through the halo, so it behaves nicely)\n",
    "#v_init = [2.2, 0]\n",
    "\n",
    "s_init = np.append(x_init, v_init)"
   ]
  },
  {
   "cell_type": "code",
   "execution_count": 59,
   "metadata": {
    "collapsed": true
   },
   "outputs": [],
   "source": [
    "#Derivative. Here s is the combined phase space coordinates: s[0] = x, s[1] = y, s[2] = v_x, s[3] = v_y\n",
    "def dsdt(s, t):\n",
    "    ds = s*0.0\n",
    "    #Derivative of the position is the speed...Easy!\n",
    "    ds[0] = s[2]\n",
    "    ds[1] = s[3]\n",
    "    \n",
    "    x = s[0:2]\n",
    "    v = s[2:4]\n",
    "    \n",
    "    #Calculate acceleration:\n",
    "    force = F_grav(x,v) + F_dyn(x,v)\n",
    "    ds[2] = force[0]/M_PBH\n",
    "    ds[3] = force[1]/M_PBH\n",
    "    \n",
    "    return ds\n",
    "    "
   ]
  },
  {
   "cell_type": "code",
   "execution_count": 60,
   "metadata": {},
   "outputs": [],
   "source": [
    "#Run for a little over half a period\n",
    "tvals = np.linspace(0, 0.6*P,1000)\n",
    "\n",
    "ode_result = odeint(dsdt, s_init, tvals)"
   ]
  },
  {
   "cell_type": "code",
   "execution_count": 61,
   "metadata": {},
   "outputs": [
    {
     "data": {
      "image/png": "[encoded data removed]",
      "text/plain": [
       "<matplotlib.figure.Figure at 0x10b322bd0>"
      ]
     },
     "metadata": {},
     "output_type": "display_data"
    },
    {
     "data": {
      "image/png": "[encoded data removed]",
      "text/plain": [
       "<matplotlib.figure.Figure at 0x10b1a2c50>"
      ]
     },
     "metadata": {},
     "output_type": "display_data"
    }
   ],
   "source": [
    "#plot x and y as a function of t\n",
    "pl.figure()\n",
    "pl.plot(tvals, ode_result[:,0], label=\"x\")\n",
    "pl.plot(tvals, ode_result[:,1], label=\"y\")\n",
    "pl.xlabel(\"t\")\n",
    "pl.legend()\n",
    "\n",
    "#Trace the orbit\n",
    "f = pl.figure(figsize=(7,7))\n",
    "pl.plot(ode_result[:,0], ode_result[:,1])\n",
    "\n",
    "pl.plot([0.0,0.0], 'ko',ms=5.0)\n",
    "pl.plot(x_init[0], x_init[1], 'ko',ms=5.0)\n",
    "\n",
    "circle1 = pl.Circle((0, 0), r_tr, color='r', linestyle='--',linewidth=2.0, fill=False)\n",
    "ax = f.gca()\n",
    "ax.add_artist(circle1)\n",
    "pl.xlabel(\"x\")\n",
    "pl.ylabel(\"y\")\n",
    "pl.xlim(-r0*1.1, r0*1.1)\n",
    "pl.ylim(-r0*1.1, r0*1.1)\n",
    "\n",
    "pl.show()"
   ]
  },
  {
   "cell_type": "code",
   "execution_count": null,
   "metadata": {
    "collapsed": true
   },
   "outputs": [],
   "source": []
  },
  {
   "cell_type": "code",
   "execution_count": null,
   "metadata": {
    "collapsed": true
   },
   "outputs": [],
   "source": []
  }
 ],
 "metadata": {
  "kernelspec": {
   "display_name": "Python 2",
   "language": "python",
   "name": "python2"
  },
  "language_info": {
   "codemirror_mode": {
    "name": "ipython",
    "version": 2
   },
   "file_extension": ".py",
   "mimetype": "text/x-python",
   "name": "python",
   "nbconvert_exporter": "python",
   "pygments_lexer": "ipython2",
   "version": "2.7.12"
  }
 },
 "nbformat": 4,
 "nbformat_minor": 2
}
