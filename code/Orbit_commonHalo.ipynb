{
 "cells": [
  {
   "cell_type": "code",
   "execution_count": 338,
   "metadata": {},
   "outputs": [],
   "source": [
    "%matplotlib inline\n",
    "\n",
    "from __future__ import division\n",
    "\n",
    "import numpy as np\n",
    "\n",
    "import matplotlib.pyplot as pl\n",
    "from matplotlib.mlab import griddata\n",
    "\n",
    "from matplotlib import colors, ticker, cm\n",
    "\n",
    "from scipy.integrate import odeint\n",
    "from scipy.special import erf"
   ]
  },
  {
   "cell_type": "markdown",
   "metadata": {},
   "source": [
    "Let's use a planar coordinate system (everything has z = 0), so we just have two coordinates (x,y). If we have a position array x, then let's say that x[0] = x, x[1] = y."
   ]
  },
  {
   "cell_type": "markdown",
   "metadata": {},
   "source": [
    "### Some constants\n",
    "\n",
    "We're operating in units of (parsecs), (solar masses) and (km/s).\n",
    "Time is in units of parsec/(km/s) = 3.086e13 s = 0.978 Myr."
   ]
  },
  {
   "cell_type": "code",
   "execution_count": 339,
   "metadata": {},
   "outputs": [],
   "source": [
    "G_N = 4.302e-3 #(pc/solar mass) (km/s)^2   #4.2998?\n",
    "M_PBH = 30.0\n",
    "\n",
    "r_tr = 0.0063*(M_PBH**(1.0/3.0))\n",
    "\n",
    "A = 3*M_PBH/(8*np.pi*r_tr**3)\n",
    "T = 0.978 #Myr\n",
    "\n",
    "common_halo = 1"
   ]
  },
  {
   "cell_type": "markdown",
   "metadata": {},
   "source": [
    "### Some random functions"
   ]
  },
  {
   "cell_type": "markdown",
   "metadata": {},
   "source": [
    "Mass enclosed in the halo at a given distance:"
   ]
  },
  {
   "cell_type": "code",
   "execution_count": 340,
   "metadata": {},
   "outputs": [],
   "source": [
    "#Mass of PBH + DM within a radius r\n",
    "def Menc(r):\n",
    "    if (common_halo == 1):\n",
    "        mass = 2.*M_PBH\n",
    "    else:\n",
    "        mass = M_PBH\n",
    "        \n",
    "    #mass = mass/1.e6    \n",
    "        \n",
    "    if (r > r_tr):\n",
    "        return 1.0*(mass)   #use the accurate formula?\n",
    "    else:\n",
    "        return mass*(r/r_tr)**(3/2)   #factor of 2 for common halo case"
   ]
  },
  {
   "cell_type": "code",
   "execution_count": 341,
   "metadata": {},
   "outputs": [],
   "source": [
    "def density(r):\n",
    "    if (r > r_tr):\n",
    "        return 0   #use the accurate formula?\n",
    "    else:\n",
    "        return A*(r/r_tr)**(-3.0/2.0)"
   ]
  },
  {
   "cell_type": "markdown",
   "metadata": {},
   "source": [
    "Gravitational force"
   ]
  },
  {
   "cell_type": "code",
   "execution_count": 342,
   "metadata": {},
   "outputs": [],
   "source": [
    "def F_grav_complete(x,x2):\n",
    "    \n",
    "    r = np.sqrt(x[0]**2 + x[1]**2)\n",
    "    F_grav_common_halo = -x*G_N*Menc(r)*M_PBH/r**3\n",
    "    \n",
    "    r2 = np.sqrt((x[0]-x2[0])**2. + (x[1]-x2[1])**2.)\n",
    "    F_grav_other_black_hole = -(x-x2)*G_N*M_PBH*M_PBH/(r2**3.)\n",
    "    \n",
    "    return  F_grav_common_halo + F_grav_other_black_hole\n",
    "\n",
    "\n",
    "def F_grav(x,v):\n",
    "    r = np.sqrt(x[0]**2 + x[1]**2)    \n",
    "    return -x*G_N*Menc(r)*M_PBH/r**3 "
   ]
  },
  {
   "cell_type": "markdown",
   "metadata": {},
   "source": [
    "Dynamical friction force:"
   ]
  },
  {
   "cell_type": "code",
   "execution_count": 343,
   "metadata": {},
   "outputs": [],
   "source": [
    "#Correction due to the speed distribution of DM in the halo\n",
    "#Assume for now some kind of Maxwell-Boltzmann distribution\n",
    "def dist_corr(r, v_abs):\n",
    "    #TODO: use the X corresponding to the actual velocity distribution at that R\n",
    "    #disp = np.sqrt(2*G_N*Menc(r)/r) #Within some factor\n",
    "    #X = v_abs/np.sqrt(2)\n",
    "    X = v_abs/np.sqrt(2.*G_N*Menc(r)/r)\n",
    "    return erf(X) - (2*X/np.sqrt(np.pi))*np.exp(-X**2)"
   ]
  },
  {
   "cell_type": "code",
   "execution_count": 344,
   "metadata": {},
   "outputs": [],
   "source": [
    "#See, for example, https://arxiv.org/pdf/1604.02034.pdf\n",
    "#For now, take the coulomb logarithm to be equal to 1 (we can discuss, see also 1009.2455)\n",
    "\n",
    "def F_dyn(x,v):\n",
    "    \n",
    "    r = np.sqrt(x[0]**2 + x[1]**2)\n",
    "    v_abs = np.sqrt(v[0]**2 + v[1]**2)\n",
    "    norm = 4*np.pi*((M_PBH)**2)*(G_N**2)   #Extra factor of M_PBH appears here because this is the force\n",
    "    ###\n",
    "    Dr = (2./3.)*r\n",
    "    a90 = G_N*M_PBH/(v_abs**2.+(2.*G_N*Menc(r)/r))\n",
    "    coulomb_log = 1.#np.log( Dr/a90 )\n",
    "    ###\n",
    "    return -norm*v*density(r)*dist_corr(r, v_abs)*coulomb_log/v_abs**3 \n",
    "    # ln (Lambda)  = 1  ?\n",
    "\n",
    "#This should come out with the correct units (M_solar (km/s)/T)"
   ]
  },
  {
   "cell_type": "markdown",
   "metadata": {},
   "source": [
    "### Set up the system and solve the ODE:"
   ]
  },
  {
   "cell_type": "code",
   "execution_count": 345,
   "metadata": {},
   "outputs": [],
   "source": [
    "e = 0.9\n",
    "a = 0.1*r_tr\n",
    "\n",
    "P = 2*np.pi*np.sqrt(a**3/(2*M_PBH*G_N))\n",
    "\n",
    "r0 = (1+e)*a\n",
    "x1_init = [ r0/2,  0.]\n",
    "x2_init = [-r0/2., 0.]\n",
    "\n",
    "v_apo = 0.5 * np.sqrt( (1.-e)*G_N*M_PBH/((1.+e)*a) )\n",
    "v1_init = [0, v_apo]\n",
    "v2_init = [0, -v_apo]\n",
    "\n",
    "s_init = np.append(x1_init, x2_init) \n",
    "s_init = np.append(s_init, v1_init)\n",
    "s_init = np.append(s_init, v2_init)"
   ]
  },
  {
   "cell_type": "code",
   "execution_count": 346,
   "metadata": {},
   "outputs": [],
   "source": [
    "#Derivative. Here s is the combined phase space coordinates: s[0] = x, s[1] = y, s[2] = v_x, s[3] = v_y\n",
    "def dsdt(s, t):\n",
    "    \n",
    "    ds = s*0.0\n",
    "    \n",
    "    #Derivative of the position is the speed...Easy!\n",
    "    ds[0] = s[4]\n",
    "    ds[1] = s[5]\n",
    "    ds[2] = s[6]\n",
    "    ds[3] = s[7]\n",
    "    \n",
    "    x1 = s[0:2]\n",
    "    x2 = s[2:4]\n",
    "    v1 = s[4:6]\n",
    "    v2 = s[6:8]\n",
    "    \n",
    "    #Calculate acceleration:\n",
    "    \n",
    "    force1 = F_grav_complete(x1,x2) + 1.*F_dyn(x1, v1)\n",
    "    ds[4] = force1[0]/M_PBH\n",
    "    ds[5] = force1[1]/M_PBH\n",
    "    force2 = F_grav_complete(x2,x1) + 1.*F_dyn(x2, v2)\n",
    "    ds[6] = force2[0]/M_PBH\n",
    "    ds[7] = force2[1]/M_PBH\n",
    "    \n",
    "    return ds\n",
    "    "
   ]
  },
  {
   "cell_type": "code",
   "execution_count": 347,
   "metadata": {},
   "outputs": [
    {
     "name": "stderr",
     "output_type": "stream",
     "text": [
      "/Library/Frameworks/Python.framework/Versions/3.5/lib/python3.5/site-packages/scipy/integrate/odepack.py:218: ODEintWarning: Excess work done on this call (perhaps wrong Dfun type). Run with full_output = 1 to get quantitative information.\n",
      "  warnings.warn(warning_msg, ODEintWarning)\n"
     ]
    }
   ],
   "source": [
    "#Run for a little over half a period\n",
    "tvals = np.linspace(0, 2.5*P, 10000)\n",
    "\n",
    "ode_result = odeint(dsdt, s_init, tvals)"
   ]
  },
  {
   "cell_type": "code",
   "execution_count": 348,
   "metadata": {},
   "outputs": [
    {
     "data": {
      "image/png": "[encoded data removed]",
      "text/plain": [
       "<matplotlib.figure.Figure at 0x108a02908>"
      ]
     },
     "metadata": {},
     "output_type": "display_data"
    },
    {
     "data": {
      "image/png": "[encoded data removed]",
      "text/plain": [
       "<matplotlib.figure.Figure at 0x108a194a8>"
      ]
     },
     "metadata": {},
     "output_type": "display_data"
    }
   ],
   "source": [
    "#plot x and y as a function of t\n",
    "pl.figure()\n",
    "pl.plot(tvals, ode_result[:,0], label=\"x\")\n",
    "pl.plot(tvals, ode_result[:,1], label=\"y\")\n",
    "pl.xlabel(\"t\")\n",
    "pl.legend()\n",
    "\n",
    "#Trace the orbit\n",
    "f = pl.figure(figsize=(12,12))\n",
    "pl.plot(ode_result[:,0], ode_result[:,1], color=\"crimson\")\n",
    "pl.plot(ode_result[:,2], ode_result[:,3], color=\"maroon\")\n",
    "\n",
    "pl.plot([0.0,0.0], 'bo', ms=5.0)\n",
    "pl.plot(x1_init[0], x1_init[1], 'ko',ms=5.0)\n",
    "pl.plot(x2_init[0], x2_init[1], 'ko',ms=5.0)\n",
    "\n",
    "pl.xlabel(\"x\")\n",
    "pl.ylabel(\"y\")\n",
    "\n",
    "xmax = 0.10\n",
    "ymax = 0.10\n",
    "\n",
    "pl.xlim(-r_tr*xmax, r_tr*xmax)\n",
    "pl.ylim(-r_tr*ymax, r_tr*ymax)\n",
    "\n",
    "circle1 = pl.Circle((0, 0), r_tr, color='b', linestyle='--',linewidth=2.0, fill=False)\n",
    "npts = 100\n",
    "xi_vec = np.linspace(-r_tr*xmax, r_tr*xmax, npts)\n",
    "yi_vec = np.linspace(-r_tr*ymax, r_tr*ymax, npts)\n",
    "Xi_vec, Yi_vec = np.meshgrid(xi_vec, yi_vec)\n",
    "Zi_vec = np.zeros((npts,npts))\n",
    "ind = 0\n",
    "for ix in range(npts):\n",
    "    for iy in range(npts):\n",
    "        Zi_vec[ix,iy] = Menc( np.sqrt(xi_vec[ix]**2. + yi_vec[iy]**2.) )  \n",
    "        ind += 1\n",
    "CS = pl.contourf(Xi_vec, Yi_vec, Zi_vec, locator=ticker.LogLocator(), cmap=cm.PuBu_r)\n",
    "\n",
    "\n",
    "ax = f.gca()\n",
    "ax.add_artist(circle1)\n",
    "\n",
    "\n",
    "pl.show()"
   ]
  },
  {
   "cell_type": "markdown",
   "metadata": {},
   "source": [
    "put comments here"
   ]
  },
  {
   "cell_type": "markdown",
   "metadata": {
    "collapsed": true
   },
   "source": [
    "### Calculating the eccentricity"
   ]
  },
  {
   "cell_type": "code",
   "execution_count": 355,
   "metadata": {},
   "outputs": [],
   "source": [
    "def specific_energy(r, v_abs):    \n",
    "    return 0.5*v_abs**2 - (G_N*(M_PBH/2.)/r)\n",
    "\n",
    "def specific_angmom(x,v):\n",
    "    h = np.cross(x,v)\n",
    "    return np.sqrt(np.sum(h**2))\n",
    "\n",
    "def ecc(s):\n",
    "    \n",
    "    x1 = s[0:2]\n",
    "    x2 = s[2:4]\n",
    "    v1 = s[4:6]\n",
    "    v2 = s[6:8]    \n",
    "    \n",
    "    r = np.sqrt(np.sum((x1-x2)**2))\n",
    "    v_abs = np.sqrt(np.sum((v1-v2)**2))\n",
    "    \n",
    "    eps = specific_energy(r, v_abs)\n",
    "    h = specific_angmom(x1-x2,v1-v2)\n",
    "    mu = G_N*M_PBH/2.\n",
    "    \n",
    "    return np.sqrt(1.0 + 2.0*eps*h**2/mu**2)"
   ]
  },
  {
   "cell_type": "code",
   "execution_count": 356,
   "metadata": {},
   "outputs": [
    {
     "name": "stderr",
     "output_type": "stream",
     "text": [
      "/Library/Frameworks/Python.framework/Versions/3.5/lib/python3.5/site-packages/ipykernel_launcher.py:2: RuntimeWarning: divide by zero encountered in double_scalars\n",
      "  \n",
      "/Library/Frameworks/Python.framework/Versions/3.5/lib/python3.5/site-packages/ipykernel_launcher.py:22: RuntimeWarning: invalid value encountered in double_scalars\n"
     ]
    }
   ],
   "source": [
    "ecc_list = np.zeros(len(tvals))\n",
    "for i in range(len(tvals)):\n",
    "    ecc_list[i] = ecc(ode_result[i,:])"
   ]
  },
  {
   "cell_type": "code",
   "execution_count": 357,
   "metadata": {},
   "outputs": [
    {
     "data": {
      "image/png": "[encoded data removed]",
      "text/plain": [
       "<matplotlib.figure.Figure at 0x108c39a58>"
      ]
     },
     "metadata": {},
     "output_type": "display_data"
    }
   ],
   "source": [
    "pl.figure()\n",
    "pl.plot(tvals, ecc_list)\n",
    "pl.ylabel(\"eccentricity\")\n",
    "pl.xlabel(\"t\")\n",
    "pl.ylim(0.5, 1)\n",
    "pl.show()"
   ]
  },
  {
   "cell_type": "code",
   "execution_count": null,
   "metadata": {},
   "outputs": [],
   "source": []
  },
  {
   "cell_type": "code",
   "execution_count": null,
   "metadata": {},
   "outputs": [],
   "source": []
  },
  {
   "cell_type": "code",
   "execution_count": null,
   "metadata": {},
   "outputs": [],
   "source": []
  }
 ],
 "metadata": {
  "kernelspec": {
   "display_name": "Python 2",
   "language": "python",
   "name": "python2"
  },
  "language_info": {
   "codemirror_mode": {
    "name": "ipython",
    "version": 3
   },
   "file_extension": ".py",
   "mimetype": "text/x-python",
   "name": "python",
   "nbconvert_exporter": "python",
   "pygments_lexer": "ipython3",
   "version": "3.5.0"
  }
 },
 "nbformat": 4,
 "nbformat_minor": 2
}
